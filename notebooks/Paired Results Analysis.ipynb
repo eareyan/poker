{
 "cells": [
  {
   "cell_type": "markdown",
   "id": "42425063",
   "metadata": {},
   "source": [
    "## Paired plots "
   ]
  },
  {
   "cell_type": "code",
   "execution_count": 404,
   "id": "0bca7007",
   "metadata": {},
   "outputs": [],
   "source": [
    "data = pd.read_csv('../results/pair_experiment.csv')"
   ]
  },
  {
   "cell_type": "code",
   "execution_count": 405,
   "id": "6a977fbe",
   "metadata": {},
   "outputs": [],
   "source": [
    "do_floor, beta = True, 1.1\n",
    "do_floor, beta = False, 1.05\n",
    "data = data[(data['beta'] == beta) & (data['do_floor'] == do_floor)]"
   ]
  },
  {
   "cell_type": "code",
   "execution_count": 406,
   "id": "3bcf1d53",
   "metadata": {},
   "outputs": [
    {
     "data": {
      "text/plain": [
       "252"
      ]
     },
     "execution_count": 406,
     "metadata": {},
     "output_type": "execute_result"
    }
   ],
   "source": [
    "len(data)"
   ]
  },
  {
   "cell_type": "code",
   "execution_count": 407,
   "id": "d56e23c2",
   "metadata": {
    "scrolled": true
   },
   "outputs": [
    {
     "data": {
      "text/html": [
       "<div>\n",
       "<style scoped>\n",
       "    .dataframe tbody tr th:only-of-type {\n",
       "        vertical-align: middle;\n",
       "    }\n",
       "\n",
       "    .dataframe tbody tr th {\n",
       "        vertical-align: top;\n",
       "    }\n",
       "\n",
       "    .dataframe thead th {\n",
       "        text-align: right;\n",
       "    }\n",
       "</style>\n",
       "<table border=\"1\" class=\"dataframe\">\n",
       "  <thead>\n",
       "    <tr style=\"text-align: right;\">\n",
       "      <th></th>\n",
       "      <th>target_epsilon</th>\n",
       "      <th>target_delta</th>\n",
       "      <th>beta</th>\n",
       "      <th>do_floor</th>\n",
       "      <th>game_id</th>\n",
       "      <th>size_of_game</th>\n",
       "      <th>num_discard_cards</th>\n",
       "      <th>hand_p1</th>\n",
       "      <th>hand_p2</th>\n",
       "      <th>v_inf</th>\n",
       "      <th>v_1_inf</th>\n",
       "      <th>emp_sample_complexity</th>\n",
       "      <th>emp_simulation_complexity</th>\n",
       "    </tr>\n",
       "  </thead>\n",
       "  <tbody>\n",
       "    <tr>\n",
       "      <th>300</th>\n",
       "      <td>0.01</td>\n",
       "      <td>0.05</td>\n",
       "      <td>1.05</td>\n",
       "      <td>False</td>\n",
       "      <td>3ff44312-6919-4df9-a2a3-41823f4bd307</td>\n",
       "      <td>100</td>\n",
       "      <td>2</td>\n",
       "      <td>['H2', 'C5', 'D6', 'C7', 'D14']</td>\n",
       "      <td>['D2', 'S9', 'C11', 'S13', 'H14']</td>\n",
       "      <td>0.947649</td>\n",
       "      <td>75.145833</td>\n",
       "      <td>260598</td>\n",
       "      <td>20784174</td>\n",
       "    </tr>\n",
       "    <tr>\n",
       "      <th>301</th>\n",
       "      <td>0.01</td>\n",
       "      <td>0.05</td>\n",
       "      <td>1.05</td>\n",
       "      <td>False</td>\n",
       "      <td>3ff44312-6919-4df9-a2a3-41823f4bd307</td>\n",
       "      <td>100</td>\n",
       "      <td>3</td>\n",
       "      <td>['H2', 'C5', 'D6', 'C7', 'D14']</td>\n",
       "      <td>['D2', 'S9', 'C11', 'S13', 'H14']</td>\n",
       "      <td>0.923847</td>\n",
       "      <td>74.153008</td>\n",
       "      <td>248189</td>\n",
       "      <td>20441852</td>\n",
       "    </tr>\n",
       "    <tr>\n",
       "      <th>302</th>\n",
       "      <td>0.01</td>\n",
       "      <td>0.05</td>\n",
       "      <td>1.05</td>\n",
       "      <td>False</td>\n",
       "      <td>945d02af-fff9-4ab0-9d7c-7d0000139546</td>\n",
       "      <td>100</td>\n",
       "      <td>2</td>\n",
       "      <td>['H4', 'H7', 'H9', 'S10', 'H14']</td>\n",
       "      <td>['C4', 'C7', 'S11', 'C12', 'D14']</td>\n",
       "      <td>0.890432</td>\n",
       "      <td>66.537303</td>\n",
       "      <td>248189</td>\n",
       "      <td>18557956</td>\n",
       "    </tr>\n",
       "    <tr>\n",
       "      <th>303</th>\n",
       "      <td>0.01</td>\n",
       "      <td>0.05</td>\n",
       "      <td>1.05</td>\n",
       "      <td>False</td>\n",
       "      <td>945d02af-fff9-4ab0-9d7c-7d0000139546</td>\n",
       "      <td>100</td>\n",
       "      <td>3</td>\n",
       "      <td>['H4', 'H7', 'H9', 'S10', 'H14']</td>\n",
       "      <td>['C4', 'C7', 'S11', 'C12', 'D14']</td>\n",
       "      <td>0.915758</td>\n",
       "      <td>66.369322</td>\n",
       "      <td>248189</td>\n",
       "      <td>18518219</td>\n",
       "    </tr>\n",
       "    <tr>\n",
       "      <th>304</th>\n",
       "      <td>0.01</td>\n",
       "      <td>0.05</td>\n",
       "      <td>1.05</td>\n",
       "      <td>False</td>\n",
       "      <td>a0a0388a-b6e6-48b9-999d-a22c35f911c1</td>\n",
       "      <td>100</td>\n",
       "      <td>2</td>\n",
       "      <td>['C4', 'S5', 'S6', 'S8', 'H14']</td>\n",
       "      <td>['H3', 'D5', 'S10', 'H11', 'C13']</td>\n",
       "      <td>0.949753</td>\n",
       "      <td>83.894378</td>\n",
       "      <td>260598</td>\n",
       "      <td>23179173</td>\n",
       "    </tr>\n",
       "    <tr>\n",
       "      <th>...</th>\n",
       "      <td>...</td>\n",
       "      <td>...</td>\n",
       "      <td>...</td>\n",
       "      <td>...</td>\n",
       "      <td>...</td>\n",
       "      <td>...</td>\n",
       "      <td>...</td>\n",
       "      <td>...</td>\n",
       "      <td>...</td>\n",
       "      <td>...</td>\n",
       "      <td>...</td>\n",
       "      <td>...</td>\n",
       "      <td>...</td>\n",
       "    </tr>\n",
       "    <tr>\n",
       "      <th>547</th>\n",
       "      <td>0.01</td>\n",
       "      <td>0.05</td>\n",
       "      <td>1.05</td>\n",
       "      <td>False</td>\n",
       "      <td>01440f1c-a1fa-4feb-b8f4-56b367c644f2</td>\n",
       "      <td>100</td>\n",
       "      <td>3</td>\n",
       "      <td>['D5', 'D6', 'C11', 'C12', 'D14']</td>\n",
       "      <td>['D2', 'D4', 'S6', 'S10', 'D10']</td>\n",
       "      <td>0.922883</td>\n",
       "      <td>70.993990</td>\n",
       "      <td>248189</td>\n",
       "      <td>19741851</td>\n",
       "    </tr>\n",
       "    <tr>\n",
       "      <th>548</th>\n",
       "      <td>0.01</td>\n",
       "      <td>0.05</td>\n",
       "      <td>1.05</td>\n",
       "      <td>False</td>\n",
       "      <td>e996e1fb-199f-436d-84a4-c6a7aa9560d1</td>\n",
       "      <td>100</td>\n",
       "      <td>2</td>\n",
       "      <td>['S2', 'S3', 'D3', 'C7', 'D7']</td>\n",
       "      <td>['D6', 'S9', 'H12', 'H13', 'S13']</td>\n",
       "      <td>0.903835</td>\n",
       "      <td>66.105129</td>\n",
       "      <td>248189</td>\n",
       "      <td>18371471</td>\n",
       "    </tr>\n",
       "    <tr>\n",
       "      <th>549</th>\n",
       "      <td>0.01</td>\n",
       "      <td>0.05</td>\n",
       "      <td>1.05</td>\n",
       "      <td>False</td>\n",
       "      <td>e996e1fb-199f-436d-84a4-c6a7aa9560d1</td>\n",
       "      <td>100</td>\n",
       "      <td>3</td>\n",
       "      <td>['S2', 'S3', 'D3', 'C7', 'D7']</td>\n",
       "      <td>['D6', 'S9', 'H12', 'H13', 'S13']</td>\n",
       "      <td>0.907262</td>\n",
       "      <td>67.452909</td>\n",
       "      <td>248189</td>\n",
       "      <td>18705916</td>\n",
       "    </tr>\n",
       "    <tr>\n",
       "      <th>550</th>\n",
       "      <td>0.01</td>\n",
       "      <td>0.05</td>\n",
       "      <td>1.05</td>\n",
       "      <td>False</td>\n",
       "      <td>2dbb0175-17fa-4c72-9ebc-c9448396fe2a</td>\n",
       "      <td>100</td>\n",
       "      <td>2</td>\n",
       "      <td>['D5', 'D6', 'C7', 'D7', 'C12']</td>\n",
       "      <td>['D2', 'H6', 'S6', 'H12', 'D12']</td>\n",
       "      <td>0.848615</td>\n",
       "      <td>35.711914</td>\n",
       "      <td>236371</td>\n",
       "      <td>10297278</td>\n",
       "    </tr>\n",
       "    <tr>\n",
       "      <th>551</th>\n",
       "      <td>0.01</td>\n",
       "      <td>0.05</td>\n",
       "      <td>1.05</td>\n",
       "      <td>False</td>\n",
       "      <td>2dbb0175-17fa-4c72-9ebc-c9448396fe2a</td>\n",
       "      <td>100</td>\n",
       "      <td>3</td>\n",
       "      <td>['D5', 'D6', 'C7', 'D7', 'C12']</td>\n",
       "      <td>['D2', 'H6', 'S6', 'H12', 'D12']</td>\n",
       "      <td>0.863461</td>\n",
       "      <td>49.522574</td>\n",
       "      <td>236371</td>\n",
       "      <td>13981719</td>\n",
       "    </tr>\n",
       "  </tbody>\n",
       "</table>\n",
       "<p>252 rows × 13 columns</p>\n",
       "</div>"
      ],
      "text/plain": [
       "     target_epsilon  target_delta  beta  do_floor  \\\n",
       "300            0.01          0.05  1.05     False   \n",
       "301            0.01          0.05  1.05     False   \n",
       "302            0.01          0.05  1.05     False   \n",
       "303            0.01          0.05  1.05     False   \n",
       "304            0.01          0.05  1.05     False   \n",
       "..              ...           ...   ...       ...   \n",
       "547            0.01          0.05  1.05     False   \n",
       "548            0.01          0.05  1.05     False   \n",
       "549            0.01          0.05  1.05     False   \n",
       "550            0.01          0.05  1.05     False   \n",
       "551            0.01          0.05  1.05     False   \n",
       "\n",
       "                                  game_id  size_of_game  num_discard_cards  \\\n",
       "300  3ff44312-6919-4df9-a2a3-41823f4bd307           100                  2   \n",
       "301  3ff44312-6919-4df9-a2a3-41823f4bd307           100                  3   \n",
       "302  945d02af-fff9-4ab0-9d7c-7d0000139546           100                  2   \n",
       "303  945d02af-fff9-4ab0-9d7c-7d0000139546           100                  3   \n",
       "304  a0a0388a-b6e6-48b9-999d-a22c35f911c1           100                  2   \n",
       "..                                    ...           ...                ...   \n",
       "547  01440f1c-a1fa-4feb-b8f4-56b367c644f2           100                  3   \n",
       "548  e996e1fb-199f-436d-84a4-c6a7aa9560d1           100                  2   \n",
       "549  e996e1fb-199f-436d-84a4-c6a7aa9560d1           100                  3   \n",
       "550  2dbb0175-17fa-4c72-9ebc-c9448396fe2a           100                  2   \n",
       "551  2dbb0175-17fa-4c72-9ebc-c9448396fe2a           100                  3   \n",
       "\n",
       "                               hand_p1                            hand_p2  \\\n",
       "300    ['H2', 'C5', 'D6', 'C7', 'D14']  ['D2', 'S9', 'C11', 'S13', 'H14']   \n",
       "301    ['H2', 'C5', 'D6', 'C7', 'D14']  ['D2', 'S9', 'C11', 'S13', 'H14']   \n",
       "302   ['H4', 'H7', 'H9', 'S10', 'H14']  ['C4', 'C7', 'S11', 'C12', 'D14']   \n",
       "303   ['H4', 'H7', 'H9', 'S10', 'H14']  ['C4', 'C7', 'S11', 'C12', 'D14']   \n",
       "304    ['C4', 'S5', 'S6', 'S8', 'H14']  ['H3', 'D5', 'S10', 'H11', 'C13']   \n",
       "..                                 ...                                ...   \n",
       "547  ['D5', 'D6', 'C11', 'C12', 'D14']   ['D2', 'D4', 'S6', 'S10', 'D10']   \n",
       "548     ['S2', 'S3', 'D3', 'C7', 'D7']  ['D6', 'S9', 'H12', 'H13', 'S13']   \n",
       "549     ['S2', 'S3', 'D3', 'C7', 'D7']  ['D6', 'S9', 'H12', 'H13', 'S13']   \n",
       "550    ['D5', 'D6', 'C7', 'D7', 'C12']   ['D2', 'H6', 'S6', 'H12', 'D12']   \n",
       "551    ['D5', 'D6', 'C7', 'D7', 'C12']   ['D2', 'H6', 'S6', 'H12', 'D12']   \n",
       "\n",
       "        v_inf    v_1_inf  emp_sample_complexity  emp_simulation_complexity  \n",
       "300  0.947649  75.145833                 260598                   20784174  \n",
       "301  0.923847  74.153008                 248189                   20441852  \n",
       "302  0.890432  66.537303                 248189                   18557956  \n",
       "303  0.915758  66.369322                 248189                   18518219  \n",
       "304  0.949753  83.894378                 260598                   23179173  \n",
       "..        ...        ...                    ...                        ...  \n",
       "547  0.922883  70.993990                 248189                   19741851  \n",
       "548  0.903835  66.105129                 248189                   18371471  \n",
       "549  0.907262  67.452909                 248189                   18705916  \n",
       "550  0.848615  35.711914                 236371                   10297278  \n",
       "551  0.863461  49.522574                 236371                   13981719  \n",
       "\n",
       "[252 rows x 13 columns]"
      ]
     },
     "execution_count": 407,
     "metadata": {},
     "output_type": "execute_result"
    }
   ],
   "source": [
    "data"
   ]
  },
  {
   "cell_type": "code",
   "execution_count": 408,
   "id": "b4f80d4d",
   "metadata": {},
   "outputs": [
    {
     "data": {
      "text/plain": [
       "target_epsilon                 1\n",
       "target_delta                   1\n",
       "beta                           1\n",
       "do_floor                       1\n",
       "game_id                      126\n",
       "size_of_game                   1\n",
       "num_discard_cards              2\n",
       "hand_p1                      126\n",
       "hand_p2                      126\n",
       "v_inf                        161\n",
       "v_1_inf                      252\n",
       "emp_sample_complexity          6\n",
       "emp_simulation_complexity    252\n",
       "dtype: int64"
      ]
     },
     "execution_count": 408,
     "metadata": {},
     "output_type": "execute_result"
    }
   ],
   "source": [
    "data.nunique()"
   ]
  },
  {
   "cell_type": "code",
   "execution_count": 409,
   "id": "a63ff918",
   "metadata": {},
   "outputs": [],
   "source": [
    "discard_2 = data[data['num_discard_cards'] == 2]\n",
    "discard_3 = data[data['num_discard_cards'] == 3]"
   ]
  },
  {
   "cell_type": "code",
   "execution_count": 410,
   "id": "596d4612",
   "metadata": {},
   "outputs": [],
   "source": [
    "def rand_jitter(arr):\n",
    "    stdev = .01 * (max(arr) - min(arr))\n",
    "    return arr + np.random.randn(len(arr)) * stdev * 0.5"
   ]
  },
  {
   "cell_type": "code",
   "execution_count": 411,
   "id": "cc13c1fc",
   "metadata": {},
   "outputs": [
    {
     "data": {
      "text/plain": [
       "(204186, 236200.26409771392)"
      ]
     },
     "execution_count": 411,
     "metadata": {},
     "output_type": "execute_result"
    }
   ],
   "source": [
    "min(x), min(y)"
   ]
  },
  {
   "cell_type": "code",
   "execution_count": 412,
   "id": "6bce5ff2",
   "metadata": {},
   "outputs": [],
   "source": [
    "def pair_expt_plot_save(plot_stat, beta, do_floor):\n",
    "    \n",
    "    axis_titles = {\n",
    "    'emp_sample_complexity': 'empirical sample complexity', \n",
    "    'emp_simulation_complexity': 'empirical query complexity', \n",
    "    }\n",
    "    \n",
    "    fig, ax = plt.subplots()\n",
    "    figure = plt.gcf()\n",
    "    figure.set_size_inches(8, 8)\n",
    "    \n",
    "    plt.tight_layout()\n",
    "    plt.title(f'Paired experiment, {axis_titles[plot_stat]}. \\n {len(discard_3)} games, beta = {beta}, do_floor = {do_floor}.')\n",
    "    plt.xlabel(f'Discard 2 {axis_titles[plot_stat]}')\n",
    "    plt.ylabel(f'Discard 3 {axis_titles[plot_stat]}')\n",
    "\n",
    "    x = discard_2[plot_stat]\n",
    "    y = rand_jitter(discard_3[plot_stat])\n",
    "    plt.scatter(\n",
    "        x,\n",
    "        y,\n",
    "        s=25,\n",
    "        marker=\".\",\n",
    "        alpha=0.5\n",
    "    )\n",
    "    #min_min = min(min(x), min(y)) - (1000000 if plot_stat == 'emp_simulation_complexity' else 10000)\n",
    "    min_min=0\n",
    "    max_max = max(max(x), max(y)) + (1000000 if plot_stat == 'emp_simulation_complexity' else 10000)\n",
    "    plt.xlim(min_min, max_max)\n",
    "    plt.ylim(min_min, max_max)\n",
    "\n",
    "    lims = [\n",
    "        np.min([ax.get_xlim(), ax.get_ylim()]),  # min of both axes\n",
    "        np.max([ax.get_xlim(), ax.get_ylim()]),  # max of both axes\n",
    "    ]\n",
    "    plt.plot(lims, lims, 'k-', alpha=0.75, zorder=0)\n",
    "\n",
    "    plt.savefig(\n",
    "        f\"../plots/paired_texp_{plot_stat}_beta_{beta}.pdf\",\n",
    "        bbox_inches=\"tight\",\n",
    "        format=\"PDF\",\n",
    "        transparent=True,\n",
    "    )"
   ]
  },
  {
   "cell_type": "code",
   "execution_count": 413,
   "id": "3f2e53d3",
   "metadata": {},
   "outputs": [
    {
     "data": {
      "image/png": "[encoded data removed]",
      "text/plain": [
       "<Figure size 576x576 with 1 Axes>"
      ]
     },
     "metadata": {
      "needs_background": "light"
     },
     "output_type": "display_data"
    },
    {
     "data": {
      "image/png": "[encoded data removed]",
      "text/plain": [
       "<Figure size 576x576 with 1 Axes>"
      ]
     },
     "metadata": {
      "needs_background": "light"
     },
     "output_type": "display_data"
    }
   ],
   "source": [
    "pair_expt_plot_save(plot_stat = 'emp_sample_complexity', beta= beta, do_floor = do_floor)\n",
    "pair_expt_plot_save(plot_stat = 'emp_simulation_complexity', beta= beta, do_floor = do_floor)"
   ]
  }
 ],
 "metadata": {
  "kernelspec": {
   "display_name": "Python 3 (ipykernel)",
   "language": "python",
   "name": "python3"
  },
  "language_info": {
   "codemirror_mode": {
    "name": "ipython",
    "version": 3
   },
   "file_extension": ".py",
   "mimetype": "text/x-python",
   "name": "python",
   "nbconvert_exporter": "python",
   "pygments_lexer": "ipython3",
   "version": "3.8.5"
  }
 },
 "nbformat": 4,
 "nbformat_minor": 5
}
