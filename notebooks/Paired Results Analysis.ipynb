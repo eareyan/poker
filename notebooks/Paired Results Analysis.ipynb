{
 "cells": [
  {
   "cell_type": "markdown",
   "id": "7c610b0d",
   "metadata": {},
   "source": [
    "## Paired plots "
   ]
  },
  {
   "cell_type": "code",
   "execution_count": 44,
   "id": "155125ab",
   "metadata": {},
   "outputs": [],
   "source": [
    "import pandas as pd\n",
    "import numpy as np\n",
    "import matplotlib.pyplot as plt\n",
    "import matplotlib.ticker as mtick\n",
    "from scipy import stats"
   ]
  },
  {
   "cell_type": "code",
   "execution_count": 45,
   "id": "56319162",
   "metadata": {},
   "outputs": [],
   "source": [
    "data = pd.read_csv('../results/pair_experiment.csv')"
   ]
  },
  {
   "cell_type": "code",
   "execution_count": 46,
   "id": "c48a9890",
   "metadata": {},
   "outputs": [],
   "source": [
    "#do_floor, beta = True, 1.1\n",
    "do_floor, beta = False, 1.05\n",
    "data = data[(data['beta'] == beta) & (data['do_floor'] == do_floor)]"
   ]
  },
  {
   "cell_type": "code",
   "execution_count": 47,
   "id": "d51b0aa0",
   "metadata": {},
   "outputs": [
    {
     "data": {
      "text/plain": [
       "300"
      ]
     },
     "execution_count": 47,
     "metadata": {},
     "output_type": "execute_result"
    }
   ],
   "source": [
    "len(data)"
   ]
  },
  {
   "cell_type": "code",
   "execution_count": 48,
   "id": "31e62d74",
   "metadata": {
    "scrolled": true
   },
   "outputs": [
    {
     "data": {
      "text/html": [
       "<div>\n",
       "<style scoped>\n",
       "    .dataframe tbody tr th:only-of-type {\n",
       "        vertical-align: middle;\n",
       "    }\n",
       "\n",
       "    .dataframe tbody tr th {\n",
       "        vertical-align: top;\n",
       "    }\n",
       "\n",
       "    .dataframe thead th {\n",
       "        text-align: right;\n",
       "    }\n",
       "</style>\n",
       "<table border=\"1\" class=\"dataframe\">\n",
       "  <thead>\n",
       "    <tr style=\"text-align: right;\">\n",
       "      <th></th>\n",
       "      <th>target_epsilon</th>\n",
       "      <th>target_delta</th>\n",
       "      <th>beta</th>\n",
       "      <th>do_floor</th>\n",
       "      <th>game_id</th>\n",
       "      <th>size_of_game</th>\n",
       "      <th>num_discard_cards</th>\n",
       "      <th>hand_p1</th>\n",
       "      <th>hand_p2</th>\n",
       "      <th>v_inf</th>\n",
       "      <th>v_1_inf</th>\n",
       "      <th>emp_sample_complexity</th>\n",
       "      <th>emp_simulation_complexity</th>\n",
       "    </tr>\n",
       "  </thead>\n",
       "  <tbody>\n",
       "    <tr>\n",
       "      <th>300</th>\n",
       "      <td>0.01</td>\n",
       "      <td>0.05</td>\n",
       "      <td>1.05</td>\n",
       "      <td>False</td>\n",
       "      <td>3ff44312-6919-4df9-a2a3-41823f4bd307</td>\n",
       "      <td>100</td>\n",
       "      <td>2</td>\n",
       "      <td>['H2', 'C5', 'D6', 'C7', 'D14']</td>\n",
       "      <td>['D2', 'S9', 'C11', 'S13', 'H14']</td>\n",
       "      <td>0.947649</td>\n",
       "      <td>75.145833</td>\n",
       "      <td>260598</td>\n",
       "      <td>20784174</td>\n",
       "    </tr>\n",
       "    <tr>\n",
       "      <th>301</th>\n",
       "      <td>0.01</td>\n",
       "      <td>0.05</td>\n",
       "      <td>1.05</td>\n",
       "      <td>False</td>\n",
       "      <td>3ff44312-6919-4df9-a2a3-41823f4bd307</td>\n",
       "      <td>100</td>\n",
       "      <td>3</td>\n",
       "      <td>['H2', 'C5', 'D6', 'C7', 'D14']</td>\n",
       "      <td>['D2', 'S9', 'C11', 'S13', 'H14']</td>\n",
       "      <td>0.923847</td>\n",
       "      <td>74.153008</td>\n",
       "      <td>248189</td>\n",
       "      <td>20441852</td>\n",
       "    </tr>\n",
       "    <tr>\n",
       "      <th>302</th>\n",
       "      <td>0.01</td>\n",
       "      <td>0.05</td>\n",
       "      <td>1.05</td>\n",
       "      <td>False</td>\n",
       "      <td>945d02af-fff9-4ab0-9d7c-7d0000139546</td>\n",
       "      <td>100</td>\n",
       "      <td>2</td>\n",
       "      <td>['H4', 'H7', 'H9', 'S10', 'H14']</td>\n",
       "      <td>['C4', 'C7', 'S11', 'C12', 'D14']</td>\n",
       "      <td>0.890432</td>\n",
       "      <td>66.537303</td>\n",
       "      <td>248189</td>\n",
       "      <td>18557956</td>\n",
       "    </tr>\n",
       "    <tr>\n",
       "      <th>303</th>\n",
       "      <td>0.01</td>\n",
       "      <td>0.05</td>\n",
       "      <td>1.05</td>\n",
       "      <td>False</td>\n",
       "      <td>945d02af-fff9-4ab0-9d7c-7d0000139546</td>\n",
       "      <td>100</td>\n",
       "      <td>3</td>\n",
       "      <td>['H4', 'H7', 'H9', 'S10', 'H14']</td>\n",
       "      <td>['C4', 'C7', 'S11', 'C12', 'D14']</td>\n",
       "      <td>0.915758</td>\n",
       "      <td>66.369322</td>\n",
       "      <td>248189</td>\n",
       "      <td>18518219</td>\n",
       "    </tr>\n",
       "    <tr>\n",
       "      <th>304</th>\n",
       "      <td>0.01</td>\n",
       "      <td>0.05</td>\n",
       "      <td>1.05</td>\n",
       "      <td>False</td>\n",
       "      <td>a0a0388a-b6e6-48b9-999d-a22c35f911c1</td>\n",
       "      <td>100</td>\n",
       "      <td>2</td>\n",
       "      <td>['C4', 'S5', 'S6', 'S8', 'H14']</td>\n",
       "      <td>['H3', 'D5', 'S10', 'H11', 'C13']</td>\n",
       "      <td>0.949753</td>\n",
       "      <td>83.894378</td>\n",
       "      <td>260598</td>\n",
       "      <td>23179173</td>\n",
       "    </tr>\n",
       "    <tr>\n",
       "      <th>...</th>\n",
       "      <td>...</td>\n",
       "      <td>...</td>\n",
       "      <td>...</td>\n",
       "      <td>...</td>\n",
       "      <td>...</td>\n",
       "      <td>...</td>\n",
       "      <td>...</td>\n",
       "      <td>...</td>\n",
       "      <td>...</td>\n",
       "      <td>...</td>\n",
       "      <td>...</td>\n",
       "      <td>...</td>\n",
       "      <td>...</td>\n",
       "    </tr>\n",
       "    <tr>\n",
       "      <th>595</th>\n",
       "      <td>0.01</td>\n",
       "      <td>0.05</td>\n",
       "      <td>1.05</td>\n",
       "      <td>False</td>\n",
       "      <td>182aff49-314e-4449-b440-32a869f240c4</td>\n",
       "      <td>100</td>\n",
       "      <td>3</td>\n",
       "      <td>['S2', 'S3', 'S7', 'C10', 'D13']</td>\n",
       "      <td>['H3', 'S5', 'D5', 'D6', 'D11']</td>\n",
       "      <td>0.907262</td>\n",
       "      <td>73.437803</td>\n",
       "      <td>248189</td>\n",
       "      <td>20389420</td>\n",
       "    </tr>\n",
       "    <tr>\n",
       "      <th>596</th>\n",
       "      <td>0.01</td>\n",
       "      <td>0.05</td>\n",
       "      <td>1.05</td>\n",
       "      <td>False</td>\n",
       "      <td>32c27291-4280-4a19-8bb2-01fa35dfdd9c</td>\n",
       "      <td>100</td>\n",
       "      <td>2</td>\n",
       "      <td>['C3', 'S8', 'S11', 'H12', 'C12']</td>\n",
       "      <td>['C2', 'S5', 'C9', 'H10', 'D10']</td>\n",
       "      <td>0.890432</td>\n",
       "      <td>61.039825</td>\n",
       "      <td>248189</td>\n",
       "      <td>16997894</td>\n",
       "    </tr>\n",
       "    <tr>\n",
       "      <th>597</th>\n",
       "      <td>0.01</td>\n",
       "      <td>0.05</td>\n",
       "      <td>1.05</td>\n",
       "      <td>False</td>\n",
       "      <td>32c27291-4280-4a19-8bb2-01fa35dfdd9c</td>\n",
       "      <td>100</td>\n",
       "      <td>3</td>\n",
       "      <td>['C3', 'S8', 'S11', 'H12', 'C12']</td>\n",
       "      <td>['C2', 'S5', 'C9', 'H10', 'D10']</td>\n",
       "      <td>0.903402</td>\n",
       "      <td>72.692166</td>\n",
       "      <td>248189</td>\n",
       "      <td>20153601</td>\n",
       "    </tr>\n",
       "    <tr>\n",
       "      <th>598</th>\n",
       "      <td>0.01</td>\n",
       "      <td>0.05</td>\n",
       "      <td>1.05</td>\n",
       "      <td>False</td>\n",
       "      <td>f229c2e2-36c1-4feb-be2f-842ea039ee2f</td>\n",
       "      <td>100</td>\n",
       "      <td>2</td>\n",
       "      <td>['S2', 'D2', 'D9', 'C12', 'C13']</td>\n",
       "      <td>['C4', 'C6', 'S8', 'C9', 'S12']</td>\n",
       "      <td>0.925505</td>\n",
       "      <td>75.500227</td>\n",
       "      <td>260598</td>\n",
       "      <td>20954765</td>\n",
       "    </tr>\n",
       "    <tr>\n",
       "      <th>599</th>\n",
       "      <td>0.01</td>\n",
       "      <td>0.05</td>\n",
       "      <td>1.05</td>\n",
       "      <td>False</td>\n",
       "      <td>f229c2e2-36c1-4feb-be2f-842ea039ee2f</td>\n",
       "      <td>100</td>\n",
       "      <td>3</td>\n",
       "      <td>['S2', 'D2', 'D9', 'C12', 'C13']</td>\n",
       "      <td>['C4', 'C6', 'S8', 'C9', 'S12']</td>\n",
       "      <td>0.920051</td>\n",
       "      <td>72.659368</td>\n",
       "      <td>248189</td>\n",
       "      <td>20129703</td>\n",
       "    </tr>\n",
       "  </tbody>\n",
       "</table>\n",
       "<p>300 rows × 13 columns</p>\n",
       "</div>"
      ],
      "text/plain": [
       "     target_epsilon  target_delta  beta  do_floor  \\\n",
       "300            0.01          0.05  1.05     False   \n",
       "301            0.01          0.05  1.05     False   \n",
       "302            0.01          0.05  1.05     False   \n",
       "303            0.01          0.05  1.05     False   \n",
       "304            0.01          0.05  1.05     False   \n",
       "..              ...           ...   ...       ...   \n",
       "595            0.01          0.05  1.05     False   \n",
       "596            0.01          0.05  1.05     False   \n",
       "597            0.01          0.05  1.05     False   \n",
       "598            0.01          0.05  1.05     False   \n",
       "599            0.01          0.05  1.05     False   \n",
       "\n",
       "                                  game_id  size_of_game  num_discard_cards  \\\n",
       "300  3ff44312-6919-4df9-a2a3-41823f4bd307           100                  2   \n",
       "301  3ff44312-6919-4df9-a2a3-41823f4bd307           100                  3   \n",
       "302  945d02af-fff9-4ab0-9d7c-7d0000139546           100                  2   \n",
       "303  945d02af-fff9-4ab0-9d7c-7d0000139546           100                  3   \n",
       "304  a0a0388a-b6e6-48b9-999d-a22c35f911c1           100                  2   \n",
       "..                                    ...           ...                ...   \n",
       "595  182aff49-314e-4449-b440-32a869f240c4           100                  3   \n",
       "596  32c27291-4280-4a19-8bb2-01fa35dfdd9c           100                  2   \n",
       "597  32c27291-4280-4a19-8bb2-01fa35dfdd9c           100                  3   \n",
       "598  f229c2e2-36c1-4feb-be2f-842ea039ee2f           100                  2   \n",
       "599  f229c2e2-36c1-4feb-be2f-842ea039ee2f           100                  3   \n",
       "\n",
       "                               hand_p1                            hand_p2  \\\n",
       "300    ['H2', 'C5', 'D6', 'C7', 'D14']  ['D2', 'S9', 'C11', 'S13', 'H14']   \n",
       "301    ['H2', 'C5', 'D6', 'C7', 'D14']  ['D2', 'S9', 'C11', 'S13', 'H14']   \n",
       "302   ['H4', 'H7', 'H9', 'S10', 'H14']  ['C4', 'C7', 'S11', 'C12', 'D14']   \n",
       "303   ['H4', 'H7', 'H9', 'S10', 'H14']  ['C4', 'C7', 'S11', 'C12', 'D14']   \n",
       "304    ['C4', 'S5', 'S6', 'S8', 'H14']  ['H3', 'D5', 'S10', 'H11', 'C13']   \n",
       "..                                 ...                                ...   \n",
       "595   ['S2', 'S3', 'S7', 'C10', 'D13']    ['H3', 'S5', 'D5', 'D6', 'D11']   \n",
       "596  ['C3', 'S8', 'S11', 'H12', 'C12']   ['C2', 'S5', 'C9', 'H10', 'D10']   \n",
       "597  ['C3', 'S8', 'S11', 'H12', 'C12']   ['C2', 'S5', 'C9', 'H10', 'D10']   \n",
       "598   ['S2', 'D2', 'D9', 'C12', 'C13']    ['C4', 'C6', 'S8', 'C9', 'S12']   \n",
       "599   ['S2', 'D2', 'D9', 'C12', 'C13']    ['C4', 'C6', 'S8', 'C9', 'S12']   \n",
       "\n",
       "        v_inf    v_1_inf  emp_sample_complexity  emp_simulation_complexity  \n",
       "300  0.947649  75.145833                 260598                   20784174  \n",
       "301  0.923847  74.153008                 248189                   20441852  \n",
       "302  0.890432  66.537303                 248189                   18557956  \n",
       "303  0.915758  66.369322                 248189                   18518219  \n",
       "304  0.949753  83.894378                 260598                   23179173  \n",
       "..        ...        ...                    ...                        ...  \n",
       "595  0.907262  73.437803                 248189                   20389420  \n",
       "596  0.890432  61.039825                 248189                   16997894  \n",
       "597  0.903402  72.692166                 248189                   20153601  \n",
       "598  0.925505  75.500227                 260598                   20954765  \n",
       "599  0.920051  72.659368                 248189                   20129703  \n",
       "\n",
       "[300 rows x 13 columns]"
      ]
     },
     "execution_count": 48,
     "metadata": {},
     "output_type": "execute_result"
    }
   ],
   "source": [
    "data"
   ]
  },
  {
   "cell_type": "code",
   "execution_count": 49,
   "id": "abbe9404",
   "metadata": {},
   "outputs": [
    {
     "data": {
      "text/plain": [
       "target_epsilon                 1\n",
       "target_delta                   1\n",
       "beta                           1\n",
       "do_floor                       1\n",
       "game_id                      150\n",
       "size_of_game                   1\n",
       "num_discard_cards              2\n",
       "hand_p1                      150\n",
       "hand_p2                      150\n",
       "v_inf                        180\n",
       "v_1_inf                      300\n",
       "emp_sample_complexity          7\n",
       "emp_simulation_complexity    300\n",
       "dtype: int64"
      ]
     },
     "execution_count": 49,
     "metadata": {},
     "output_type": "execute_result"
    }
   ],
   "source": [
    "data.nunique()"
   ]
  },
  {
   "cell_type": "code",
   "execution_count": 50,
   "id": "c054b2bd",
   "metadata": {},
   "outputs": [],
   "source": [
    "discard_2 = data[data['num_discard_cards'] == 2]\n",
    "discard_3 = data[data['num_discard_cards'] == 3]"
   ]
  },
  {
   "cell_type": "code",
   "execution_count": 51,
   "id": "c4317cc1",
   "metadata": {},
   "outputs": [],
   "source": [
    "def rand_jitter(arr):\n",
    "    stdev = .01 * (max(arr) - min(arr))\n",
    "    return arr + np.random.randn(len(arr)) * stdev * 0.5"
   ]
  },
  {
   "cell_type": "code",
   "execution_count": 52,
   "id": "b6abe5d9",
   "metadata": {},
   "outputs": [],
   "source": [
    "# Copy paste from https://stackoverflow.com/questions/25750170/show-decimal-places-and-scientific-notation-on-the-axis-of-a-matplotlib-plot\n",
    "class MathTextSciFormatter(mtick.Formatter):\n",
    "    def __init__(self, fmt=\"%1.2e\"):\n",
    "        self.fmt = fmt\n",
    "\n",
    "    def __call__(self, x, pos=None):\n",
    "        s = self.fmt % x\n",
    "        decimal_point = \".\"\n",
    "        positive_sign = \"+\"\n",
    "        tup = s.split(\"e\")\n",
    "        significand = tup[0].rstrip(decimal_point)\n",
    "        sign = tup[1][0].replace(positive_sign, \"\")\n",
    "        exponent = tup[1][1:].lstrip(\"0\")\n",
    "        if exponent:\n",
    "            exponent = \"10^{%s%s}\" % (sign, exponent)\n",
    "        if significand and exponent:\n",
    "            s = r\"%s{\\times}%s\" % (significand, exponent)\n",
    "        else:\n",
    "            s = r\"%s%s\" % (significand, exponent)\n",
    "        return \"${}$\".format(s)"
   ]
  },
  {
   "cell_type": "code",
   "execution_count": 53,
   "id": "77b77149",
   "metadata": {},
   "outputs": [],
   "source": [
    "def pair_expt_plot_save(ax, plot_stat, beta, do_floor, do_jitter = True):\n",
    "    \n",
    "    axis_titles = {\n",
    "    'emp_sample_complexity': 'empirical sample complexity', \n",
    "    'emp_simulation_complexity': 'empirical query complexity', \n",
    "    }\n",
    "    \n",
    "    ax.set_title(f'Paired experiment, {axis_titles[plot_stat]}. \\n {len(discard_3)} games, beta = {beta}, do_floor = {do_floor}.')\n",
    "    ax.set_xlabel(f'Discard 2 \\n {axis_titles[plot_stat]}')\n",
    "    ax.set_ylabel(f'Discard 3 \\n {axis_titles[plot_stat]}')\n",
    "\n",
    "    x = discard_2[plot_stat]\n",
    "    y = rand_jitter(discard_3[plot_stat]) if do_jitter else discard_3[plot_stat]\n",
    "    ax.scatter(\n",
    "        x,\n",
    "        y,\n",
    "        s=10,\n",
    "        marker=\".\",\n",
    "        alpha=0.5,\n",
    "        linewidth=0\n",
    "    )\n",
    "    #min_min = min(min(x), min(y)) - (1000000 if plot_stat == 'emp_simulation_complexity' else 10000)\n",
    "    min_min=0\n",
    "    max_max = max(max(x), max(y)) + (1000000 if plot_stat == 'emp_simulation_complexity' else 10000)\n",
    "    ax.set_xlim(min_min, max_max)\n",
    "    ax.set_ylim(min_min, max_max)\n",
    "    ax.xaxis.set_major_formatter(MathTextSciFormatter(\"%1.0e\"))\n",
    "    ax.yaxis.set_major_formatter(MathTextSciFormatter(\"%1.1e\"))\n",
    "\n",
    "    lims = [\n",
    "        np.min([ax.get_xlim(), ax.get_ylim()]),  # min of both axes\n",
    "        np.max([ax.get_xlim(), ax.get_ylim()]),  # max of both axes\n",
    "    ]\n",
    "    ax.plot(lims, lims, 'k-', alpha=0.75, zorder=0)\n",
    "\n"
   ]
  },
  {
   "cell_type": "code",
   "execution_count": 54,
   "id": "4d3da95b",
   "metadata": {},
   "outputs": [
    {
     "data": {
      "image/png": "[encoded data removed]",
      "text/plain": [
       "<Figure size 288x576 with 2 Axes>"
      ]
     },
     "metadata": {
      "needs_background": "light"
     },
     "output_type": "display_data"
    }
   ],
   "source": [
    "exp_fig, (exp_ax1, exp_ax2) = plt.subplots(2, 1)\n",
    "exp_fig.set_size_inches(4, 8)\n",
    "\n",
    "pair_expt_plot_save(ax = exp_ax1, plot_stat = 'emp_sample_complexity', beta= beta, do_floor = do_floor)\n",
    "pair_expt_plot_save(ax = exp_ax2, plot_stat = 'emp_simulation_complexity', beta= beta, do_floor = do_floor, do_jitter=False)\n",
    "\n",
    "plt.tight_layout()\n",
    "plt.savefig(\n",
    "    f\"../plots/paired_texp_beta_{beta}.pdf\",\n",
    "    bbox_inches=\"tight\",\n",
    "    format=\"PDF\",\n",
    "    transparent=True,\n",
    ")"
   ]
  },
  {
   "cell_type": "markdown",
   "id": "ebefdd71",
   "metadata": {},
   "source": [
    "### Compute the number of points on / above / below the line y=x "
   ]
  },
  {
   "cell_type": "code",
   "execution_count": 55,
   "id": "787bda09",
   "metadata": {},
   "outputs": [],
   "source": [
    "points = pd.DataFrame([[x, y] for x, y in zip(discard_2['emp_sample_complexity'], discard_3['emp_sample_complexity'])],\n",
    "            columns=['dis_2', 'dis_3'])"
   ]
  },
  {
   "cell_type": "code",
   "execution_count": 56,
   "id": "595b18f1",
   "metadata": {},
   "outputs": [
    {
     "name": "stdout",
     "output_type": "stream",
     "text": [
      "Beta = 1.05\n",
      " slope = 0.14976934685807844,\n",
      " intercept = 211621.56127292957,\n",
      " r_value = 0.3018707528613098,\n",
      " p_value = 0.00017390660817842175,\n",
      " std_err = 0.03887969879804956\n"
     ]
    },
    {
     "data": {
      "text/plain": [
       "on_line_x_y       67\n",
       "below_line_x_y    48\n",
       "above_line_x_y    35\n",
       "dtype: int64"
      ]
     },
     "execution_count": 56,
     "metadata": {},
     "output_type": "execute_result"
    }
   ],
   "source": [
    "points['on_line_x_y'] = points['dis_2'] == points['dis_3']\n",
    "points['below_line_x_y'] = points['dis_2'] > points['dis_3']\n",
    "points['above_line_x_y'] = points['dis_2'] < points['dis_3']\n",
    "summary = points[['on_line_x_y', 'below_line_x_y', 'above_line_x_y']].sum()\n",
    "assert summary['on_line_x_y'] + summary['below_line_x_y'] + summary['above_line_x_y'] == len(data)/2\n",
    "print(f\"Beta = {beta}\")\n",
    "\n",
    "slope, intercept, r_value, p_value, std_err = stats.linregress(points['dis_2'], points['dis_3'])\n",
    "print(f\" slope = {slope},\\n intercept = {intercept},\\n r_value = {r_value},\\n p_value = {p_value},\\n std_err = {std_err}\")\n",
    "\n",
    "summary"
   ]
  },
  {
   "cell_type": "code",
   "execution_count": 57,
   "id": "79763d76",
   "metadata": {},
   "outputs": [
    {
     "data": {
      "text/plain": [
       "'\\nBeta = 1.05\\non_line_x_y       67\\nbelow_line_x_y    48\\nabove_line_x_y    35\\n\\nBeta = 1.1\\non_line_x_y       112\\nbelow_line_x_y     31\\nabove_line_x_y      7\\n'"
      ]
     },
     "execution_count": 57,
     "metadata": {},
     "output_type": "execute_result"
    }
   ],
   "source": [
    "\"\"\"\n",
    "Beta = 1.05\n",
    "on_line_x_y       67\n",
    "below_line_x_y    48\n",
    "above_line_x_y    35\n",
    "\n",
    "Beta = 1.1\n",
    "on_line_x_y       112\n",
    "below_line_x_y     31\n",
    "above_line_x_y      7\n",
    "\"\"\"\n"
   ]
  },
  {
   "cell_type": "code",
   "execution_count": null,
   "id": "b412a61f",
   "metadata": {},
   "outputs": [],
   "source": []
  }
 ],
 "metadata": {
  "kernelspec": {
   "display_name": "Python 3 (ipykernel)",
   "language": "python",
   "name": "python3"
  },
  "language_info": {
   "codemirror_mode": {
    "name": "ipython",
    "version": 3
   },
   "file_extension": ".py",
   "mimetype": "text/x-python",
   "name": "python",
   "nbconvert_exporter": "python",
   "pygments_lexer": "ipython3",
   "version": "3.8.5"
  }
 },
 "nbformat": 4,
 "nbformat_minor": 5
}
