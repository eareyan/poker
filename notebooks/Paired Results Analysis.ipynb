{
 "cells": [
  {
   "cell_type": "markdown",
   "id": "7c610b0d",
   "metadata": {},
   "source": [
    "## Paired plots "
   ]
  },
  {
   "cell_type": "code",
   "execution_count": 426,
   "id": "56319162",
   "metadata": {},
   "outputs": [],
   "source": [
    "data = pd.read_csv('../results/pair_experiment.csv')"
   ]
  },
  {
   "cell_type": "code",
   "execution_count": 427,
   "id": "c48a9890",
   "metadata": {},
   "outputs": [],
   "source": [
    "do_floor, beta = True, 1.1\n",
    "#do_floor, beta = False, 1.05\n",
    "data = data[(data['beta'] == beta) & (data['do_floor'] == do_floor)]"
   ]
  },
  {
   "cell_type": "code",
   "execution_count": 428,
   "id": "d51b0aa0",
   "metadata": {},
   "outputs": [
    {
     "data": {
      "text/plain": [
       "300"
      ]
     },
     "execution_count": 428,
     "metadata": {},
     "output_type": "execute_result"
    }
   ],
   "source": [
    "len(data)"
   ]
  },
  {
   "cell_type": "code",
   "execution_count": 429,
   "id": "31e62d74",
   "metadata": {
    "scrolled": true
   },
   "outputs": [
    {
     "data": {
      "text/html": [
       "<div>\n",
       "<style scoped>\n",
       "    .dataframe tbody tr th:only-of-type {\n",
       "        vertical-align: middle;\n",
       "    }\n",
       "\n",
       "    .dataframe tbody tr th {\n",
       "        vertical-align: top;\n",
       "    }\n",
       "\n",
       "    .dataframe thead th {\n",
       "        text-align: right;\n",
       "    }\n",
       "</style>\n",
       "<table border=\"1\" class=\"dataframe\">\n",
       "  <thead>\n",
       "    <tr style=\"text-align: right;\">\n",
       "      <th></th>\n",
       "      <th>target_epsilon</th>\n",
       "      <th>target_delta</th>\n",
       "      <th>beta</th>\n",
       "      <th>do_floor</th>\n",
       "      <th>game_id</th>\n",
       "      <th>size_of_game</th>\n",
       "      <th>num_discard_cards</th>\n",
       "      <th>hand_p1</th>\n",
       "      <th>hand_p2</th>\n",
       "      <th>v_inf</th>\n",
       "      <th>v_1_inf</th>\n",
       "      <th>emp_sample_complexity</th>\n",
       "      <th>emp_simulation_complexity</th>\n",
       "    </tr>\n",
       "  </thead>\n",
       "  <tbody>\n",
       "    <tr>\n",
       "      <th>0</th>\n",
       "      <td>0.01</td>\n",
       "      <td>0.05</td>\n",
       "      <td>1.1</td>\n",
       "      <td>True</td>\n",
       "      <td>d5a07e0d-ea9e-48cb-b9b8-16f74b2519f7</td>\n",
       "      <td>100</td>\n",
       "      <td>2</td>\n",
       "      <td>['S5', 'D5', 'D10', 'S13', 'C14']</td>\n",
       "      <td>['S2', 'S4', 'H7', 'C12', 'D14']</td>\n",
       "      <td>0.878534</td>\n",
       "      <td>65.667062</td>\n",
       "      <td>237383</td>\n",
       "      <td>17700422</td>\n",
       "    </tr>\n",
       "    <tr>\n",
       "      <th>1</th>\n",
       "      <td>0.01</td>\n",
       "      <td>0.05</td>\n",
       "      <td>1.1</td>\n",
       "      <td>True</td>\n",
       "      <td>d5a07e0d-ea9e-48cb-b9b8-16f74b2519f7</td>\n",
       "      <td>100</td>\n",
       "      <td>3</td>\n",
       "      <td>['S5', 'D5', 'D10', 'S13', 'C14']</td>\n",
       "      <td>['S2', 'S4', 'H7', 'C12', 'D14']</td>\n",
       "      <td>0.884291</td>\n",
       "      <td>69.863290</td>\n",
       "      <td>237383</td>\n",
       "      <td>18898029</td>\n",
       "    </tr>\n",
       "    <tr>\n",
       "      <th>2</th>\n",
       "      <td>0.01</td>\n",
       "      <td>0.05</td>\n",
       "      <td>1.1</td>\n",
       "      <td>True</td>\n",
       "      <td>7e64e9ed-1e6b-4c38-98e9-eb0972168a82</td>\n",
       "      <td>100</td>\n",
       "      <td>2</td>\n",
       "      <td>['H3', 'C6', 'H8', 'S9', 'S10']</td>\n",
       "      <td>['D3', 'S5', 'D5', 'S6', 'S13']</td>\n",
       "      <td>0.952829</td>\n",
       "      <td>67.247314</td>\n",
       "      <td>237383</td>\n",
       "      <td>18308424</td>\n",
       "    </tr>\n",
       "    <tr>\n",
       "      <th>3</th>\n",
       "      <td>0.01</td>\n",
       "      <td>0.05</td>\n",
       "      <td>1.1</td>\n",
       "      <td>True</td>\n",
       "      <td>7e64e9ed-1e6b-4c38-98e9-eb0972168a82</td>\n",
       "      <td>100</td>\n",
       "      <td>3</td>\n",
       "      <td>['H3', 'C6', 'H8', 'S9', 'S10']</td>\n",
       "      <td>['D3', 'S5', 'D5', 'S6', 'S13']</td>\n",
       "      <td>0.902850</td>\n",
       "      <td>57.964368</td>\n",
       "      <td>237383</td>\n",
       "      <td>15788295</td>\n",
       "    </tr>\n",
       "    <tr>\n",
       "      <th>4</th>\n",
       "      <td>0.01</td>\n",
       "      <td>0.05</td>\n",
       "      <td>1.1</td>\n",
       "      <td>True</td>\n",
       "      <td>23829fc6-1696-435d-9c6d-d6c761b613b1</td>\n",
       "      <td>100</td>\n",
       "      <td>2</td>\n",
       "      <td>['C3', 'D4', 'D9', 'C11', 'H13']</td>\n",
       "      <td>['C5', 'S6', 'D12', 'C13', 'C14']</td>\n",
       "      <td>0.876967</td>\n",
       "      <td>74.929662</td>\n",
       "      <td>237383</td>\n",
       "      <td>20071704</td>\n",
       "    </tr>\n",
       "    <tr>\n",
       "      <th>...</th>\n",
       "      <td>...</td>\n",
       "      <td>...</td>\n",
       "      <td>...</td>\n",
       "      <td>...</td>\n",
       "      <td>...</td>\n",
       "      <td>...</td>\n",
       "      <td>...</td>\n",
       "      <td>...</td>\n",
       "      <td>...</td>\n",
       "      <td>...</td>\n",
       "      <td>...</td>\n",
       "      <td>...</td>\n",
       "      <td>...</td>\n",
       "    </tr>\n",
       "    <tr>\n",
       "      <th>295</th>\n",
       "      <td>0.01</td>\n",
       "      <td>0.05</td>\n",
       "      <td>1.1</td>\n",
       "      <td>True</td>\n",
       "      <td>0d7f411a-59cf-44ea-ac59-ae5103e01ede</td>\n",
       "      <td>100</td>\n",
       "      <td>3</td>\n",
       "      <td>['C4', 'D7', 'D11', 'H13', 'S14']</td>\n",
       "      <td>['C2', 'H3', 'C5', 'S8', 'H10']</td>\n",
       "      <td>0.854818</td>\n",
       "      <td>76.044265</td>\n",
       "      <td>237383</td>\n",
       "      <td>20567551</td>\n",
       "    </tr>\n",
       "    <tr>\n",
       "      <th>296</th>\n",
       "      <td>0.01</td>\n",
       "      <td>0.05</td>\n",
       "      <td>1.1</td>\n",
       "      <td>True</td>\n",
       "      <td>503c4b98-bcd3-4f55-ad80-330996ea45c6</td>\n",
       "      <td>100</td>\n",
       "      <td>2</td>\n",
       "      <td>['D4', 'D9', 'D11', 'C13', 'S14']</td>\n",
       "      <td>['D6', 'C7', 'S9', 'S12', 'C14']</td>\n",
       "      <td>0.893491</td>\n",
       "      <td>66.689100</td>\n",
       "      <td>237383</td>\n",
       "      <td>17894539</td>\n",
       "    </tr>\n",
       "    <tr>\n",
       "      <th>297</th>\n",
       "      <td>0.01</td>\n",
       "      <td>0.05</td>\n",
       "      <td>1.1</td>\n",
       "      <td>True</td>\n",
       "      <td>503c4b98-bcd3-4f55-ad80-330996ea45c6</td>\n",
       "      <td>100</td>\n",
       "      <td>3</td>\n",
       "      <td>['D4', 'D9', 'D11', 'C13', 'S14']</td>\n",
       "      <td>['D6', 'C7', 'S9', 'S12', 'C14']</td>\n",
       "      <td>0.865228</td>\n",
       "      <td>68.074641</td>\n",
       "      <td>237383</td>\n",
       "      <td>18299498</td>\n",
       "    </tr>\n",
       "    <tr>\n",
       "      <th>298</th>\n",
       "      <td>0.01</td>\n",
       "      <td>0.05</td>\n",
       "      <td>1.1</td>\n",
       "      <td>True</td>\n",
       "      <td>ba52e116-f202-433f-9d08-247290809a16</td>\n",
       "      <td>100</td>\n",
       "      <td>2</td>\n",
       "      <td>['C2', 'D3', 'C6', 'C8', 'H9']</td>\n",
       "      <td>['H2', 'H4', 'H5', 'S9', 'S12']</td>\n",
       "      <td>0.790510</td>\n",
       "      <td>60.689636</td>\n",
       "      <td>215802</td>\n",
       "      <td>16470177</td>\n",
       "    </tr>\n",
       "    <tr>\n",
       "      <th>299</th>\n",
       "      <td>0.01</td>\n",
       "      <td>0.05</td>\n",
       "      <td>1.1</td>\n",
       "      <td>True</td>\n",
       "      <td>ba52e116-f202-433f-9d08-247290809a16</td>\n",
       "      <td>100</td>\n",
       "      <td>3</td>\n",
       "      <td>['C2', 'D3', 'C6', 'C8', 'H9']</td>\n",
       "      <td>['H2', 'H4', 'H5', 'S9', 'S12']</td>\n",
       "      <td>0.737401</td>\n",
       "      <td>56.325756</td>\n",
       "      <td>196184</td>\n",
       "      <td>15286515</td>\n",
       "    </tr>\n",
       "  </tbody>\n",
       "</table>\n",
       "<p>300 rows × 13 columns</p>\n",
       "</div>"
      ],
      "text/plain": [
       "     target_epsilon  target_delta  beta  do_floor  \\\n",
       "0              0.01          0.05   1.1      True   \n",
       "1              0.01          0.05   1.1      True   \n",
       "2              0.01          0.05   1.1      True   \n",
       "3              0.01          0.05   1.1      True   \n",
       "4              0.01          0.05   1.1      True   \n",
       "..              ...           ...   ...       ...   \n",
       "295            0.01          0.05   1.1      True   \n",
       "296            0.01          0.05   1.1      True   \n",
       "297            0.01          0.05   1.1      True   \n",
       "298            0.01          0.05   1.1      True   \n",
       "299            0.01          0.05   1.1      True   \n",
       "\n",
       "                                  game_id  size_of_game  num_discard_cards  \\\n",
       "0    d5a07e0d-ea9e-48cb-b9b8-16f74b2519f7           100                  2   \n",
       "1    d5a07e0d-ea9e-48cb-b9b8-16f74b2519f7           100                  3   \n",
       "2    7e64e9ed-1e6b-4c38-98e9-eb0972168a82           100                  2   \n",
       "3    7e64e9ed-1e6b-4c38-98e9-eb0972168a82           100                  3   \n",
       "4    23829fc6-1696-435d-9c6d-d6c761b613b1           100                  2   \n",
       "..                                    ...           ...                ...   \n",
       "295  0d7f411a-59cf-44ea-ac59-ae5103e01ede           100                  3   \n",
       "296  503c4b98-bcd3-4f55-ad80-330996ea45c6           100                  2   \n",
       "297  503c4b98-bcd3-4f55-ad80-330996ea45c6           100                  3   \n",
       "298  ba52e116-f202-433f-9d08-247290809a16           100                  2   \n",
       "299  ba52e116-f202-433f-9d08-247290809a16           100                  3   \n",
       "\n",
       "                               hand_p1                            hand_p2  \\\n",
       "0    ['S5', 'D5', 'D10', 'S13', 'C14']   ['S2', 'S4', 'H7', 'C12', 'D14']   \n",
       "1    ['S5', 'D5', 'D10', 'S13', 'C14']   ['S2', 'S4', 'H7', 'C12', 'D14']   \n",
       "2      ['H3', 'C6', 'H8', 'S9', 'S10']    ['D3', 'S5', 'D5', 'S6', 'S13']   \n",
       "3      ['H3', 'C6', 'H8', 'S9', 'S10']    ['D3', 'S5', 'D5', 'S6', 'S13']   \n",
       "4     ['C3', 'D4', 'D9', 'C11', 'H13']  ['C5', 'S6', 'D12', 'C13', 'C14']   \n",
       "..                                 ...                                ...   \n",
       "295  ['C4', 'D7', 'D11', 'H13', 'S14']    ['C2', 'H3', 'C5', 'S8', 'H10']   \n",
       "296  ['D4', 'D9', 'D11', 'C13', 'S14']   ['D6', 'C7', 'S9', 'S12', 'C14']   \n",
       "297  ['D4', 'D9', 'D11', 'C13', 'S14']   ['D6', 'C7', 'S9', 'S12', 'C14']   \n",
       "298     ['C2', 'D3', 'C6', 'C8', 'H9']    ['H2', 'H4', 'H5', 'S9', 'S12']   \n",
       "299     ['C2', 'D3', 'C6', 'C8', 'H9']    ['H2', 'H4', 'H5', 'S9', 'S12']   \n",
       "\n",
       "        v_inf    v_1_inf  emp_sample_complexity  emp_simulation_complexity  \n",
       "0    0.878534  65.667062                 237383                   17700422  \n",
       "1    0.884291  69.863290                 237383                   18898029  \n",
       "2    0.952829  67.247314                 237383                   18308424  \n",
       "3    0.902850  57.964368                 237383                   15788295  \n",
       "4    0.876967  74.929662                 237383                   20071704  \n",
       "..        ...        ...                    ...                        ...  \n",
       "295  0.854818  76.044265                 237383                   20567551  \n",
       "296  0.893491  66.689100                 237383                   17894539  \n",
       "297  0.865228  68.074641                 237383                   18299498  \n",
       "298  0.790510  60.689636                 215802                   16470177  \n",
       "299  0.737401  56.325756                 196184                   15286515  \n",
       "\n",
       "[300 rows x 13 columns]"
      ]
     },
     "execution_count": 429,
     "metadata": {},
     "output_type": "execute_result"
    }
   ],
   "source": [
    "data"
   ]
  },
  {
   "cell_type": "code",
   "execution_count": 430,
   "id": "abbe9404",
   "metadata": {},
   "outputs": [
    {
     "data": {
      "text/plain": [
       "target_epsilon                 1\n",
       "target_delta                   1\n",
       "beta                           1\n",
       "do_floor                       1\n",
       "game_id                      150\n",
       "size_of_game                   1\n",
       "num_discard_cards              2\n",
       "hand_p1                      150\n",
       "hand_p2                      150\n",
       "v_inf                        261\n",
       "v_1_inf                      300\n",
       "emp_sample_complexity          4\n",
       "emp_simulation_complexity    300\n",
       "dtype: int64"
      ]
     },
     "execution_count": 430,
     "metadata": {},
     "output_type": "execute_result"
    }
   ],
   "source": [
    "data.nunique()"
   ]
  },
  {
   "cell_type": "code",
   "execution_count": 431,
   "id": "c054b2bd",
   "metadata": {},
   "outputs": [],
   "source": [
    "discard_2 = data[data['num_discard_cards'] == 2]\n",
    "discard_3 = data[data['num_discard_cards'] == 3]"
   ]
  },
  {
   "cell_type": "code",
   "execution_count": 432,
   "id": "c4317cc1",
   "metadata": {},
   "outputs": [],
   "source": [
    "def rand_jitter(arr):\n",
    "    stdev = .01 * (max(arr) - min(arr))\n",
    "    return arr + np.random.randn(len(arr)) * stdev * 0.5"
   ]
  },
  {
   "cell_type": "code",
   "execution_count": 433,
   "id": "d31c2086",
   "metadata": {},
   "outputs": [
    {
     "data": {
      "text/plain": [
       "(204186, 236200.26409771392)"
      ]
     },
     "execution_count": 433,
     "metadata": {},
     "output_type": "execute_result"
    }
   ],
   "source": [
    "min(x), min(y)"
   ]
  },
  {
   "cell_type": "code",
   "execution_count": 434,
   "id": "77b77149",
   "metadata": {},
   "outputs": [],
   "source": [
    "def pair_expt_plot_save(plot_stat, beta, do_floor):\n",
    "    \n",
    "    axis_titles = {\n",
    "    'emp_sample_complexity': 'empirical sample complexity', \n",
    "    'emp_simulation_complexity': 'empirical query complexity', \n",
    "    }\n",
    "    \n",
    "    fig, ax = plt.subplots()\n",
    "    figure = plt.gcf()\n",
    "    figure.set_size_inches(8, 8)\n",
    "    \n",
    "    plt.tight_layout()\n",
    "    plt.title(f'Paired experiment, {axis_titles[plot_stat]}. \\n {len(discard_3)} games, beta = {beta}, do_floor = {do_floor}.')\n",
    "    plt.xlabel(f'Discard 2 {axis_titles[plot_stat]}')\n",
    "    plt.ylabel(f'Discard 3 {axis_titles[plot_stat]}')\n",
    "\n",
    "    x = discard_2[plot_stat]\n",
    "    y = rand_jitter(discard_3[plot_stat])\n",
    "    plt.scatter(\n",
    "        x,\n",
    "        y,\n",
    "        s=25,\n",
    "        marker=\".\",\n",
    "        alpha=0.5,\n",
    "        linewidth=0\n",
    "    )\n",
    "    #min_min = min(min(x), min(y)) - (1000000 if plot_stat == 'emp_simulation_complexity' else 10000)\n",
    "    min_min=0\n",
    "    max_max = max(max(x), max(y)) + (1000000 if plot_stat == 'emp_simulation_complexity' else 10000)\n",
    "    plt.xlim(min_min, max_max)\n",
    "    plt.ylim(min_min, max_max)\n",
    "\n",
    "    lims = [\n",
    "        np.min([ax.get_xlim(), ax.get_ylim()]),  # min of both axes\n",
    "        np.max([ax.get_xlim(), ax.get_ylim()]),  # max of both axes\n",
    "    ]\n",
    "    plt.plot(lims, lims, 'k-', alpha=0.75, zorder=0)\n",
    "\n",
    "    plt.savefig(\n",
    "        f\"../plots/paired_texp_{plot_stat}_beta_{beta}.pdf\",\n",
    "        bbox_inches=\"tight\",\n",
    "        format=\"PDF\",\n",
    "        transparent=True,\n",
    "    )"
   ]
  },
  {
   "cell_type": "code",
   "execution_count": 435,
   "id": "4d3da95b",
   "metadata": {},
   "outputs": [
    {
     "data": {
      "image/png": "[encoded data removed]",
      "text/plain": [
       "<Figure size 576x576 with 1 Axes>"
      ]
     },
     "metadata": {
      "needs_background": "light"
     },
     "output_type": "display_data"
    },
    {
     "data": {
      "image/png": "[encoded data removed]",
      "text/plain": [
       "<Figure size 576x576 with 1 Axes>"
      ]
     },
     "metadata": {
      "needs_background": "light"
     },
     "output_type": "display_data"
    }
   ],
   "source": [
    "pair_expt_plot_save(plot_stat = 'emp_sample_complexity', beta= beta, do_floor = do_floor)\n",
    "pair_expt_plot_save(plot_stat = 'emp_simulation_complexity', beta= beta, do_floor = do_floor)"
   ]
  },
  {
   "cell_type": "code",
   "execution_count": null,
   "id": "787bda09",
   "metadata": {},
   "outputs": [],
   "source": []
  }
 ],
 "metadata": {
  "kernelspec": {
   "display_name": "Python 3 (ipykernel)",
   "language": "python",
   "name": "python3"
  },
  "language_info": {
   "codemirror_mode": {
    "name": "ipython",
    "version": 3
   },
   "file_extension": ".py",
   "mimetype": "text/x-python",
   "name": "python",
   "nbconvert_exporter": "python",
   "pygments_lexer": "ipython3",
   "version": "3.8.5"
  }
 },
 "nbformat": 4,
 "nbformat_minor": 5
}
